{
  "nbformat": 4,
  "nbformat_minor": 0,
  "metadata": {
    "colab": {
      "name": "Untitled0.ipynb",
      "provenance": [],
      "collapsed_sections": [],
      "authorship_tag": "ABX9TyPWfN6GRgfXYdlUgPXrA93D",
      "include_colab_link": true
    },
    "kernelspec": {
      "name": "python3",
      "display_name": "Python 3"
    },
    "language_info": {
      "name": "python"
    }
  },
  "cells": [
    {
      "cell_type": "markdown",
      "metadata": {
        "id": "view-in-github",
        "colab_type": "text"
      },
      "source": [
        "<a href=\"https://colab.research.google.com/github/BasicNik/Basic-Codes-/blob/master/Steganography_Project.ipynb\" target=\"_parent\"><img src=\"https://colab.research.google.com/assets/colab-badge.svg\" alt=\"Open In Colab\"/></a>"
      ]
    },
    {
      "cell_type": "code",
      "execution_count": 18,
      "metadata": {
        "id": "rZ5Hr1XzdeKg"
      },
      "outputs": [],
      "source": [
        "import cv2\n",
        "import numpy as np\n",
        "import types\n",
        "from google.colab.patches import cv2_imshow"
      ]
    },
    {
      "cell_type": "code",
      "source": [
        "def messageToBinary(message):\n",
        "  if type(message)==str:\n",
        "    return ''.join([format(ord(i),\"08b\")for i in message])\n",
        "  elif type(message)==bytes or type(message)==np.ndarray:\n",
        "    return[format(i,\"08b\")for i in message]\n",
        "  elif type(message)==int or type(message)==np.unint8:\n",
        "    return format(message,\"08b\")\n",
        "  else:\n",
        "    raise TypeError(\"Input type not supported\")"
      ],
      "metadata": {
        "id": "8NEx1IrXdzeF"
      },
      "execution_count": 32,
      "outputs": []
    },
    {
      "cell_type": "code",
      "source": [
        "#Function to hide the secret message into the image\n",
        "\n",
        "def hideData(image, secret_message):\n",
        "\n",
        "  #calculate the maximum bytes to encode\n",
        "  n_bytes = image.shape[0] * image.shape[1] * 3 // 8\n",
        "  print(\"Maximum bytes to encode :\", n_bytes)\n",
        "#check if the number of bytes to encode is less than the maximum bytes in the image\n",
        "  if len(secret_message)>n_bytes:\n",
        "    raise ValueError(\"Eror encoutered Insufficient bytes, need bigger image or less data\")\n",
        "  \n",
        "\n",
        "  secret_message+=\"#####\"\n",
        "\n",
        "  data_index=0;\n",
        "\n",
        "  binary_secret_msg=messageToBinary(secret_message)\n",
        "\n",
        "  data_len=len(binary_secret_msg)\n",
        "  for values in image:\n",
        "    for pixel in values:\n",
        "      r,g,b=messageToBinary(pixel)\n",
        "\n",
        "      if data_index<data_len:\n",
        "        pixel[0]=int(r[:-1]+binary_secret_msg[data_index],2)\n",
        "        data_index+=1\n",
        "\n",
        "      if data_index<data_len:\n",
        "        pixel[1]=int(g[:-1]+binary_secret_msg[data_index],2)\n",
        "        data_index+=1\n",
        "      if data_index<data_len:\n",
        "        pixel[2]=int(b[:-1]+binary_secret_msg[data_index],2)\n",
        "        data_index+=1\n",
        "\n",
        "      if data_index>=data_len:\n",
        "        break\n",
        "\n",
        "  return image"
      ],
      "metadata": {
        "id": "S5VKUcQ6fTOD"
      },
      "execution_count": 20,
      "outputs": []
    },
    {
      "cell_type": "code",
      "source": [
        "def showData(image):\n",
        "\n",
        "    binary_data=\"\"\n",
        "    for values in image:\n",
        "      for pixel in values:\n",
        "        r, g, b = messageToBinary(pixel)\n",
        "        binary_data += r[-1]\n",
        "        binary_data += g[-1]\n",
        "        binary_data += b[-1]\n",
        "\n",
        "    all_bytes = [ binary_data[i:i+8]for i in range(0, len(binary_data), 8)]\n",
        "\n",
        "    decoded_data = \"\"\n",
        "    for byte in all_bytes:\n",
        "      decoded_data += chr(int(byte, 2))\n",
        "      if decoded_data[-5:]==\"#####\":\n",
        "        break\n",
        "\n",
        "    return decoded_data[:-5]"
      ],
      "metadata": {
        "id": "n34u24IZnPfs"
      },
      "execution_count": 27,
      "outputs": []
    },
    {
      "cell_type": "code",
      "source": [
        "def encode_text():\n",
        "  image_name=input(\"Enter the image name(with extension): \")\n",
        "  image= cv2.imread(image_name)\n",
        "\n",
        "  #print(\"The shape of the image is : \",image.shape)\n",
        "  #print(\"The original image is shown below: \")\n",
        "  #resized_image=cv2.resize(image,(500,500))\n",
        "  #cv2_imshow(resized_image)\n",
        "\n",
        "  data=input(\"Enter data to be encoded: \")\n",
        "  if(len(data)==0):\n",
        "    raise ValueError('Data is empty')\n",
        "\n",
        "  filename = input(\"Enter the name of the new encoded image(with extension): \")\n",
        "  encoded_image=hideData(image, data)\n",
        "  cv2.imwrite(filename,encoded_image)"
      ],
      "metadata": {
        "id": "eWrz5dCDoPEr"
      },
      "execution_count": 22,
      "outputs": []
    },
    {
      "cell_type": "code",
      "source": [
        "def decode_text():\n",
        "\n",
        "  image_name=input(\"Enter the name of the image :\")\n",
        "  image=cv2.imread(image_name)\n",
        "\n",
        "  print(\"The image is shown below:\")\n",
        "  resized_image=cv2.resize(image,(500,500))\n",
        "  cv2_imshow(resized_image)\n",
        "\n",
        "  text=showData(image)\n",
        "  return text"
      ],
      "metadata": {
        "id": "gcC9nYxxpXWA"
      },
      "execution_count": 24,
      "outputs": []
    },
    {
      "cell_type": "code",
      "source": [
        "def Steganography():\n",
        "  a=input(\"Image Steganography \\n 1.Encode the data \\n 2.Decode the data\")\n",
        "  userinput=int(a)\n",
        "  if(userinput == 1):\n",
        "    print(\"\\nPlease wait\\nEncoding.......\")\n",
        "    encode_text()\n",
        "    \n",
        "  elif(userinput==2):\n",
        "    print(\"\\n Please wait \\n Decoding.....\")\n",
        "    print(\"Decoded message is : \" + decode_text())\n",
        "\n",
        "  else:\n",
        "    raise Exception(\"Enter Correct Input\")\n",
        "  \n",
        "Steganography()"
      ],
      "metadata": {
        "colab": {
          "base_uri": "https://localhost:8080/",
          "height": 520
        },
        "id": "mSel81MQrwo2",
        "outputId": "1c2f5d16-7064-4d39-8608-b6c3072b9d34"
      },
      "execution_count": 31,
      "outputs": [
        {
          "output_type": "stream",
          "name": "stdout",
          "text": [
            "Image Steganography \n",
            " 1.Encode the data \n",
            " 2.Decode the data1\n",
            "\n",
            "Please wait\n",
            "Encoding.......\n",
            "Enter the image name(with extension): test.png\n",
            "Enter data to be encoded: hello\n",
            "Enter the name of the new encoded image(with extension): test12.png\n",
            "Maximum bytes to encode : 48600\n"
          ]
        },
        {
          "output_type": "error",
          "ename": "AttributeError",
          "evalue": "ignored",
          "traceback": [
            "\u001b[0;31m---------------------------------------------------------------------------\u001b[0m",
            "\u001b[0;31mAttributeError\u001b[0m                            Traceback (most recent call last)",
            "\u001b[0;32m<ipython-input-31-f7e8c5884fdb>\u001b[0m in \u001b[0;36m<module>\u001b[0;34m()\u001b[0m\n\u001b[1;32m     13\u001b[0m     \u001b[0;32mraise\u001b[0m \u001b[0mException\u001b[0m\u001b[0;34m(\u001b[0m\u001b[0;34m\"Enter Correct Input\"\u001b[0m\u001b[0;34m)\u001b[0m\u001b[0;34m\u001b[0m\u001b[0;34m\u001b[0m\u001b[0m\n\u001b[1;32m     14\u001b[0m \u001b[0;34m\u001b[0m\u001b[0m\n\u001b[0;32m---> 15\u001b[0;31m \u001b[0mSteganography\u001b[0m\u001b[0;34m(\u001b[0m\u001b[0;34m)\u001b[0m\u001b[0;34m\u001b[0m\u001b[0;34m\u001b[0m\u001b[0m\n\u001b[0m",
            "\u001b[0;32m<ipython-input-31-f7e8c5884fdb>\u001b[0m in \u001b[0;36mSteganography\u001b[0;34m()\u001b[0m\n\u001b[1;32m      4\u001b[0m   \u001b[0;32mif\u001b[0m\u001b[0;34m(\u001b[0m\u001b[0muserinput\u001b[0m \u001b[0;34m==\u001b[0m \u001b[0;36m1\u001b[0m\u001b[0;34m)\u001b[0m\u001b[0;34m:\u001b[0m\u001b[0;34m\u001b[0m\u001b[0;34m\u001b[0m\u001b[0m\n\u001b[1;32m      5\u001b[0m     \u001b[0mprint\u001b[0m\u001b[0;34m(\u001b[0m\u001b[0;34m\"\\nPlease wait\\nEncoding.......\"\u001b[0m\u001b[0;34m)\u001b[0m\u001b[0;34m\u001b[0m\u001b[0;34m\u001b[0m\u001b[0m\n\u001b[0;32m----> 6\u001b[0;31m     \u001b[0mencode_text\u001b[0m\u001b[0;34m(\u001b[0m\u001b[0;34m)\u001b[0m\u001b[0;34m\u001b[0m\u001b[0;34m\u001b[0m\u001b[0m\n\u001b[0m\u001b[1;32m      7\u001b[0m \u001b[0;34m\u001b[0m\u001b[0m\n\u001b[1;32m      8\u001b[0m   \u001b[0;32melif\u001b[0m\u001b[0;34m(\u001b[0m\u001b[0muserinput\u001b[0m\u001b[0;34m==\u001b[0m\u001b[0;36m2\u001b[0m\u001b[0;34m)\u001b[0m\u001b[0;34m:\u001b[0m\u001b[0;34m\u001b[0m\u001b[0;34m\u001b[0m\u001b[0m\n",
            "\u001b[0;32m<ipython-input-22-e18e9cdde0c5>\u001b[0m in \u001b[0;36mencode_text\u001b[0;34m()\u001b[0m\n\u001b[1;32m     13\u001b[0m \u001b[0;34m\u001b[0m\u001b[0m\n\u001b[1;32m     14\u001b[0m   \u001b[0mfilename\u001b[0m \u001b[0;34m=\u001b[0m \u001b[0minput\u001b[0m\u001b[0;34m(\u001b[0m\u001b[0;34m\"Enter the name of the new encoded image(with extension): \"\u001b[0m\u001b[0;34m)\u001b[0m\u001b[0;34m\u001b[0m\u001b[0;34m\u001b[0m\u001b[0m\n\u001b[0;32m---> 15\u001b[0;31m   \u001b[0mencoded_image\u001b[0m\u001b[0;34m=\u001b[0m\u001b[0mhideData\u001b[0m\u001b[0;34m(\u001b[0m\u001b[0mimage\u001b[0m\u001b[0;34m,\u001b[0m \u001b[0mdata\u001b[0m\u001b[0;34m)\u001b[0m\u001b[0;34m\u001b[0m\u001b[0;34m\u001b[0m\u001b[0m\n\u001b[0m\u001b[1;32m     16\u001b[0m   \u001b[0mcv2\u001b[0m\u001b[0;34m.\u001b[0m\u001b[0mimwrite\u001b[0m\u001b[0;34m(\u001b[0m\u001b[0mfilename\u001b[0m\u001b[0;34m,\u001b[0m\u001b[0mencoded_image\u001b[0m\u001b[0;34m)\u001b[0m\u001b[0;34m\u001b[0m\u001b[0;34m\u001b[0m\u001b[0m\n",
            "\u001b[0;32m<ipython-input-20-a2d0ab26dc99>\u001b[0m in \u001b[0;36mhideData\u001b[0;34m(image, secret_message)\u001b[0m\n\u001b[1;32m     20\u001b[0m   \u001b[0;32mfor\u001b[0m \u001b[0mvalues\u001b[0m \u001b[0;32min\u001b[0m \u001b[0mimage\u001b[0m\u001b[0;34m:\u001b[0m\u001b[0;34m\u001b[0m\u001b[0;34m\u001b[0m\u001b[0m\n\u001b[1;32m     21\u001b[0m     \u001b[0;32mfor\u001b[0m \u001b[0mpixel\u001b[0m \u001b[0;32min\u001b[0m \u001b[0mvalues\u001b[0m\u001b[0;34m:\u001b[0m\u001b[0;34m\u001b[0m\u001b[0;34m\u001b[0m\u001b[0m\n\u001b[0;32m---> 22\u001b[0;31m       \u001b[0mr\u001b[0m\u001b[0;34m,\u001b[0m\u001b[0mg\u001b[0m\u001b[0;34m,\u001b[0m\u001b[0mb\u001b[0m\u001b[0;34m=\u001b[0m\u001b[0mmessageToBinary\u001b[0m\u001b[0;34m(\u001b[0m\u001b[0mpixel\u001b[0m\u001b[0;34m)\u001b[0m\u001b[0;34m\u001b[0m\u001b[0;34m\u001b[0m\u001b[0m\n\u001b[0m\u001b[1;32m     23\u001b[0m \u001b[0;34m\u001b[0m\u001b[0m\n\u001b[1;32m     24\u001b[0m       \u001b[0;32mif\u001b[0m \u001b[0mdata_index\u001b[0m\u001b[0;34m<\u001b[0m\u001b[0mdata_len\u001b[0m\u001b[0;34m:\u001b[0m\u001b[0;34m\u001b[0m\u001b[0;34m\u001b[0m\u001b[0m\n",
            "\u001b[0;32m<ipython-input-30-360a319cc4b1>\u001b[0m in \u001b[0;36mmessageToBinary\u001b[0;34m(message)\u001b[0m\n\u001b[1;32m      4\u001b[0m   \u001b[0;31m#elif type(message)==bytes or type(message)==np.ndarray:\u001b[0m\u001b[0;34m\u001b[0m\u001b[0;34m\u001b[0m\u001b[0;34m\u001b[0m\u001b[0m\n\u001b[1;32m      5\u001b[0m     \u001b[0;31m#return[format(i,\"08b\")for i in message]\u001b[0m\u001b[0;34m\u001b[0m\u001b[0;34m\u001b[0m\u001b[0;34m\u001b[0m\u001b[0m\n\u001b[0;32m----> 6\u001b[0;31m   \u001b[0;32melif\u001b[0m \u001b[0mtype\u001b[0m\u001b[0;34m(\u001b[0m\u001b[0mmessage\u001b[0m\u001b[0;34m)\u001b[0m\u001b[0;34m==\u001b[0m\u001b[0mint\u001b[0m \u001b[0;32mor\u001b[0m \u001b[0mtype\u001b[0m\u001b[0;34m(\u001b[0m\u001b[0mmessage\u001b[0m\u001b[0;34m)\u001b[0m\u001b[0;34m==\u001b[0m\u001b[0mnp\u001b[0m\u001b[0;34m.\u001b[0m\u001b[0munint8\u001b[0m\u001b[0;34m:\u001b[0m\u001b[0;34m\u001b[0m\u001b[0;34m\u001b[0m\u001b[0m\n\u001b[0m\u001b[1;32m      7\u001b[0m     \u001b[0;32mreturn\u001b[0m \u001b[0mformat\u001b[0m\u001b[0;34m(\u001b[0m\u001b[0mmessage\u001b[0m\u001b[0;34m,\u001b[0m\u001b[0;34m\"08b\"\u001b[0m\u001b[0;34m)\u001b[0m\u001b[0;34m\u001b[0m\u001b[0;34m\u001b[0m\u001b[0m\n\u001b[1;32m      8\u001b[0m   \u001b[0;32melse\u001b[0m\u001b[0;34m:\u001b[0m\u001b[0;34m\u001b[0m\u001b[0;34m\u001b[0m\u001b[0m\n",
            "\u001b[0;32m/usr/local/lib/python3.7/dist-packages/numpy/__init__.py\u001b[0m in \u001b[0;36m__getattr__\u001b[0;34m(attr)\u001b[0m\n\u001b[1;32m    312\u001b[0m \u001b[0;34m\u001b[0m\u001b[0m\n\u001b[1;32m    313\u001b[0m             raise AttributeError(\"module {!r} has no attribute \"\n\u001b[0;32m--> 314\u001b[0;31m                                  \"{!r}\".format(__name__, attr))\n\u001b[0m\u001b[1;32m    315\u001b[0m \u001b[0;34m\u001b[0m\u001b[0m\n\u001b[1;32m    316\u001b[0m         \u001b[0;32mdef\u001b[0m \u001b[0m__dir__\u001b[0m\u001b[0;34m(\u001b[0m\u001b[0;34m)\u001b[0m\u001b[0;34m:\u001b[0m\u001b[0;34m\u001b[0m\u001b[0;34m\u001b[0m\u001b[0m\n",
            "\u001b[0;31mAttributeError\u001b[0m: module 'numpy' has no attribute 'unint8'"
          ]
        }
      ]
    }
  ]
}